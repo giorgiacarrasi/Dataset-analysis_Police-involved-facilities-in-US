{
 "cells": [
  {
   "cell_type": "markdown",
   "metadata": {},
   "source": [
    "# Data Analysis about US Police Involved Fatalities\n",
    " The main aim of this analysis is to provide an insight and significant informations about who were killed by police in United States. \n",
    " It's interesting to know if, through an objective analysis, there's any prejudice against some people who belong to a specifical race or not. \n",
    " \n",
    " Something important to know: \n",
    " - The dataset shows data collected between year 2000 and year 2015\n",
    " - We can't related the result in absolute values  but only concerned to what we found in the dataset "
   ]
  },
  {
   "cell_type": "markdown",
   "metadata": {},
   "source": [
    "______________________________________________________________________________________________________________________________________________________________________________________________________________"
   ]
  },
  {
   "cell_type": "markdown",
   "metadata": {},
   "source": [
    "1. Import CSV "
   ]
  },
  {
   "cell_type": "code",
   "execution_count": 1,
   "metadata": {},
   "outputs": [
    {
     "data": {
      "text/html": [
       "<div>\n",
       "<style scoped>\n",
       "    .dataframe tbody tr th:only-of-type {\n",
       "        vertical-align: middle;\n",
       "    }\n",
       "\n",
       "    .dataframe tbody tr th {\n",
       "        vertical-align: top;\n",
       "    }\n",
       "\n",
       "    .dataframe thead th {\n",
       "        text-align: right;\n",
       "    }\n",
       "</style>\n",
       "<table border=\"1\" class=\"dataframe\">\n",
       "  <thead>\n",
       "    <tr style=\"text-align: right;\">\n",
       "      <th></th>\n",
       "      <th>UID</th>\n",
       "      <th>Name</th>\n",
       "      <th>Age</th>\n",
       "      <th>Gender</th>\n",
       "      <th>Race</th>\n",
       "      <th>Date</th>\n",
       "      <th>City</th>\n",
       "      <th>State</th>\n",
       "      <th>Manner_of_death</th>\n",
       "      <th>Armed</th>\n",
       "      <th>Mental_illness</th>\n",
       "      <th>Flee</th>\n",
       "    </tr>\n",
       "  </thead>\n",
       "  <tbody>\n",
       "    <tr>\n",
       "      <th>0</th>\n",
       "      <td>133</td>\n",
       "      <td>Karen O. Chin</td>\n",
       "      <td>44.0</td>\n",
       "      <td>Female</td>\n",
       "      <td>Asian</td>\n",
       "      <td>5/4/2000</td>\n",
       "      <td>Alameda</td>\n",
       "      <td>CA</td>\n",
       "      <td>Shot</td>\n",
       "      <td>NaN</td>\n",
       "      <td>False</td>\n",
       "      <td>False</td>\n",
       "    </tr>\n",
       "    <tr>\n",
       "      <th>1</th>\n",
       "      <td>169</td>\n",
       "      <td>Chyraphone Komvongsa</td>\n",
       "      <td>26.0</td>\n",
       "      <td>Male</td>\n",
       "      <td>Asian</td>\n",
       "      <td>6/2/2000</td>\n",
       "      <td>Fresno</td>\n",
       "      <td>CA</td>\n",
       "      <td>Shot</td>\n",
       "      <td>NaN</td>\n",
       "      <td>False</td>\n",
       "      <td>False</td>\n",
       "    </tr>\n",
       "    <tr>\n",
       "      <th>2</th>\n",
       "      <td>257</td>\n",
       "      <td>Ming Chinh Ly</td>\n",
       "      <td>36.0</td>\n",
       "      <td>Male</td>\n",
       "      <td>Asian</td>\n",
       "      <td>8/13/2000</td>\n",
       "      <td>Rosemead</td>\n",
       "      <td>CA</td>\n",
       "      <td>Shot</td>\n",
       "      <td>Gun</td>\n",
       "      <td>False</td>\n",
       "      <td>False</td>\n",
       "    </tr>\n",
       "    <tr>\n",
       "      <th>3</th>\n",
       "      <td>483</td>\n",
       "      <td>Kinh Quoc Dao</td>\n",
       "      <td>29.0</td>\n",
       "      <td>Male</td>\n",
       "      <td>Asian</td>\n",
       "      <td>2/9/2001</td>\n",
       "      <td>Valley Glen</td>\n",
       "      <td>CA</td>\n",
       "      <td>Shot</td>\n",
       "      <td>Gun</td>\n",
       "      <td>False</td>\n",
       "      <td>False</td>\n",
       "    </tr>\n",
       "    <tr>\n",
       "      <th>4</th>\n",
       "      <td>655</td>\n",
       "      <td>Vanpaseuth Phaisouphanh</td>\n",
       "      <td>25.0</td>\n",
       "      <td>Male</td>\n",
       "      <td>Asian</td>\n",
       "      <td>6/10/2001</td>\n",
       "      <td>Riverside</td>\n",
       "      <td>CA</td>\n",
       "      <td>Shot</td>\n",
       "      <td>Knife</td>\n",
       "      <td>False</td>\n",
       "      <td>False</td>\n",
       "    </tr>\n",
       "    <tr>\n",
       "      <th>...</th>\n",
       "      <td>...</td>\n",
       "      <td>...</td>\n",
       "      <td>...</td>\n",
       "      <td>...</td>\n",
       "      <td>...</td>\n",
       "      <td>...</td>\n",
       "      <td>...</td>\n",
       "      <td>...</td>\n",
       "      <td>...</td>\n",
       "      <td>...</td>\n",
       "      <td>...</td>\n",
       "      <td>...</td>\n",
       "    </tr>\n",
       "    <tr>\n",
       "      <th>12486</th>\n",
       "      <td>12388</td>\n",
       "      <td>Name withheld by police</td>\n",
       "      <td>NaN</td>\n",
       "      <td>Male</td>\n",
       "      <td>NaN</td>\n",
       "      <td>12/9/2008</td>\n",
       "      <td>Sacramento</td>\n",
       "      <td>CA</td>\n",
       "      <td>Other</td>\n",
       "      <td>NaN</td>\n",
       "      <td>False</td>\n",
       "      <td>False</td>\n",
       "    </tr>\n",
       "    <tr>\n",
       "      <th>12487</th>\n",
       "      <td>12429</td>\n",
       "      <td>Gene Lovell Ford</td>\n",
       "      <td>48.0</td>\n",
       "      <td>Male</td>\n",
       "      <td>NaN</td>\n",
       "      <td>8/6/2008</td>\n",
       "      <td>Sacramento</td>\n",
       "      <td>CA</td>\n",
       "      <td>Other</td>\n",
       "      <td>NaN</td>\n",
       "      <td>True</td>\n",
       "      <td>False</td>\n",
       "    </tr>\n",
       "    <tr>\n",
       "      <th>12488</th>\n",
       "      <td>12430</td>\n",
       "      <td>Jose Vega</td>\n",
       "      <td>38.0</td>\n",
       "      <td>Male</td>\n",
       "      <td>NaN</td>\n",
       "      <td>8/6/2008</td>\n",
       "      <td>Visalia</td>\n",
       "      <td>CA</td>\n",
       "      <td>Other</td>\n",
       "      <td>NaN</td>\n",
       "      <td>True</td>\n",
       "      <td>False</td>\n",
       "    </tr>\n",
       "    <tr>\n",
       "      <th>12489</th>\n",
       "      <td>12636</td>\n",
       "      <td>Humberto Torres</td>\n",
       "      <td>41.0</td>\n",
       "      <td>Male</td>\n",
       "      <td>NaN</td>\n",
       "      <td>3/21/2009</td>\n",
       "      <td>Delano</td>\n",
       "      <td>CA</td>\n",
       "      <td>Other</td>\n",
       "      <td>Gun</td>\n",
       "      <td>False</td>\n",
       "      <td>False</td>\n",
       "    </tr>\n",
       "    <tr>\n",
       "      <th>12490</th>\n",
       "      <td>12861</td>\n",
       "      <td>Name withheld by police</td>\n",
       "      <td>39.0</td>\n",
       "      <td>Male</td>\n",
       "      <td>NaN</td>\n",
       "      <td>1/15/2010</td>\n",
       "      <td>Los Angeles</td>\n",
       "      <td>CA</td>\n",
       "      <td>Other</td>\n",
       "      <td>NaN</td>\n",
       "      <td>False</td>\n",
       "      <td>False</td>\n",
       "    </tr>\n",
       "  </tbody>\n",
       "</table>\n",
       "<p>12491 rows × 12 columns</p>\n",
       "</div>"
      ],
      "text/plain": [
       "         UID                     Name   Age  Gender   Race       Date  \\\n",
       "0        133            Karen O. Chin  44.0  Female  Asian   5/4/2000   \n",
       "1        169     Chyraphone Komvongsa  26.0    Male  Asian   6/2/2000   \n",
       "2        257            Ming Chinh Ly  36.0    Male  Asian  8/13/2000   \n",
       "3        483            Kinh Quoc Dao  29.0    Male  Asian   2/9/2001   \n",
       "4        655  Vanpaseuth Phaisouphanh  25.0    Male  Asian  6/10/2001   \n",
       "...      ...                      ...   ...     ...    ...        ...   \n",
       "12486  12388  Name withheld by police   NaN    Male    NaN  12/9/2008   \n",
       "12487  12429         Gene Lovell Ford  48.0    Male    NaN   8/6/2008   \n",
       "12488  12430                Jose Vega  38.0    Male    NaN   8/6/2008   \n",
       "12489  12636          Humberto Torres  41.0    Male    NaN  3/21/2009   \n",
       "12490  12861  Name withheld by police  39.0    Male    NaN  1/15/2010   \n",
       "\n",
       "              City State Manner_of_death  Armed  Mental_illness   Flee  \n",
       "0          Alameda    CA            Shot    NaN           False  False  \n",
       "1           Fresno    CA            Shot    NaN           False  False  \n",
       "2         Rosemead    CA            Shot    Gun           False  False  \n",
       "3      Valley Glen    CA            Shot    Gun           False  False  \n",
       "4        Riverside    CA            Shot  Knife           False  False  \n",
       "...            ...   ...             ...    ...             ...    ...  \n",
       "12486   Sacramento    CA           Other    NaN           False  False  \n",
       "12487   Sacramento    CA           Other    NaN            True  False  \n",
       "12488      Visalia    CA           Other    NaN            True  False  \n",
       "12489       Delano    CA           Other    Gun           False  False  \n",
       "12490  Los Angeles    CA           Other    NaN           False  False  \n",
       "\n",
       "[12491 rows x 12 columns]"
      ]
     },
     "execution_count": 1,
     "metadata": {},
     "output_type": "execute_result"
    }
   ],
   "source": [
    "import pandas as pd\n",
    "import matplotlib.pyplot as plt\n",
    "\n",
    "df = pd.read_csv('https://query.data.world/s/l5sl6g6cqkag3dgwl2fcjlrua7syyu', encoding='latin1')\n",
    "\n",
    "df"
   ]
  },
  {
   "cell_type": "markdown",
   "metadata": {},
   "source": [
    "2. Instantiate the support class that own the export and extract data from df logic"
   ]
  },
  {
   "cell_type": "code",
   "execution_count": 2,
   "metadata": {},
   "outputs": [],
   "source": [
    "from export_plot import ExportPlot\n",
    "from extract_data_from_dataset import ExtractData\n",
    "\n",
    "export_obj = ExportPlot('./fig')\n",
    "extract_data_obj = ExtractData(df) "
   ]
  },
  {
   "cell_type": "markdown",
   "metadata": {},
   "source": [
    "3. Inspecting the data values and specifical types. "
   ]
  },
  {
   "cell_type": "code",
   "execution_count": 3,
   "metadata": {},
   "outputs": [
    {
     "name": "stdout",
     "output_type": "stream",
     "text": [
      "<class 'pandas.core.frame.DataFrame'>\n",
      "RangeIndex: 12491 entries, 0 to 12490\n",
      "Data columns (total 12 columns):\n",
      " #   Column           Non-Null Count  Dtype  \n",
      "---  ------           --------------  -----  \n",
      " 0   UID              12491 non-null  int64  \n",
      " 1   Name             12491 non-null  object \n",
      " 2   Age              12258 non-null  float64\n",
      " 3   Gender           12483 non-null  object \n",
      " 4   Race             8526 non-null   object \n",
      " 5   Date             12491 non-null  object \n",
      " 6   City             12487 non-null  object \n",
      " 7   State            12491 non-null  object \n",
      " 8   Manner_of_death  12491 non-null  object \n",
      " 9   Armed            6814 non-null   object \n",
      " 10  Mental_illness   12491 non-null  bool   \n",
      " 11  Flee             12491 non-null  bool   \n",
      "dtypes: bool(2), float64(1), int64(1), object(8)\n",
      "memory usage: 1000.4+ KB\n"
     ]
    }
   ],
   "source": [
    "df.info()"
   ]
  },
  {
   "cell_type": "markdown",
   "metadata": {},
   "source": [
    "4. After the exploration we need to correct some datas from type. What we do: \n",
    "\n",
    "- To transform to categorical variables all the values into the Column: gender, race, state, manner of death, armed. \n",
    "\n",
    "- To turn  date into \"datetype\" \n",
    "\n",
    "- To turn \"Name\" into \"str\"\n"
   ]
  },
  {
   "cell_type": "code",
   "execution_count": 4,
   "metadata": {},
   "outputs": [
    {
     "data": {
      "text/plain": [
       "Male      11870\n",
       "Female      613\n",
       "Name: Gender, dtype: int64"
      ]
     },
     "execution_count": 4,
     "metadata": {},
     "output_type": "execute_result"
    }
   ],
   "source": [
    "df[\"Gender\"] = df['Gender'].astype('category')\n",
    "\n",
    "df['Gender'].value_counts()"
   ]
  },
  {
   "cell_type": "code",
   "execution_count": 5,
   "metadata": {},
   "outputs": [
    {
     "data": {
      "text/plain": [
       "White       3855\n",
       "Black       2536\n",
       "Hispanic    1784\n",
       "Asian        173\n",
       "Native       130\n",
       "Other         48\n",
       "Name: Race, dtype: int64"
      ]
     },
     "execution_count": 5,
     "metadata": {},
     "output_type": "execute_result"
    }
   ],
   "source": [
    "df[\"Race\"] = df['Race'].astype('category')\n",
    "\n",
    "df['Race'].value_counts()"
   ]
  },
  {
   "cell_type": "code",
   "execution_count": 6,
   "metadata": {},
   "outputs": [
    {
     "data": {
      "text/plain": [
       "CA    2913\n",
       "TX    1190\n",
       "FL    1028\n",
       "AZ     585\n",
       "NY     390\n",
       "LA     350\n",
       "AL     326\n",
       "CO     310\n",
       "NC     308\n",
       "WA     304\n",
       "IL     301\n",
       "GA     285\n",
       "NV     276\n",
       "OH     241\n",
       "OR     212\n",
       "MD     195\n",
       "PA     189\n",
       "MO     188\n",
       "MS     176\n",
       "MN     175\n",
       "OK     169\n",
       "TN     162\n",
       "NM     162\n",
       "UT     153\n",
       "VA     148\n",
       "MI     128\n",
       "SC     127\n",
       "NJ     124\n",
       "MA     120\n",
       "WI     109\n",
       "IN     106\n",
       "KY     105\n",
       "KS     103\n",
       "ID      88\n",
       "CT      78\n",
       "AK      73\n",
       "AR      70\n",
       "DC      61\n",
       "WV      60\n",
       "MT      57\n",
       "ME      51\n",
       "NE      50\n",
       "IA      41\n",
       "WY      35\n",
       "SD      32\n",
       "DE      32\n",
       "NH      29\n",
       "HI      22\n",
       "VT      21\n",
       "RI      20\n",
       "ND      13\n",
       "Name: State, dtype: int64"
      ]
     },
     "execution_count": 6,
     "metadata": {},
     "output_type": "execute_result"
    }
   ],
   "source": [
    "df[\"State\"] = df['State'].astype('category')\n",
    "df['State'].value_counts()"
   ]
  },
  {
   "cell_type": "code",
   "execution_count": 7,
   "metadata": {},
   "outputs": [
    {
     "data": {
      "text/plain": [
       "Shot                11800\n",
       "Tasered               542\n",
       "Shot and Tasered      120\n",
       "Other                  29\n",
       "Name: Manner_of_death, dtype: int64"
      ]
     },
     "execution_count": 7,
     "metadata": {},
     "output_type": "execute_result"
    }
   ],
   "source": [
    "df[\"Manner_of_death\"] = df['Manner_of_death'].astype('category')\n",
    "df['Manner_of_death'].value_counts()"
   ]
  },
  {
   "cell_type": "code",
   "execution_count": 8,
   "metadata": {},
   "outputs": [
    {
     "data": {
      "text/plain": [
       "Gun                                 4703\n",
       "Knife                               1361\n",
       "Unarmed                              400\n",
       "Vehicle                              111\n",
       "Toy Weapon                            69\n",
       "Toy weapon                            29\n",
       "Machete                               16\n",
       "Unknown Weapon                        15\n",
       "Sword                                  8\n",
       "Hammer                                 7\n",
       "Box Cutter                             7\n",
       "Axe                                    6\n",
       "Tasered                                6\n",
       "Baseball Bat                           6\n",
       "Hatchet                                5\n",
       "Metal Pipe                             5\n",
       "Gun And Knife                          3\n",
       "Guns And Explosives                    3\n",
       "Crossbow                               3\n",
       "Screwdriver                            3\n",
       "Blunt Object                           2\n",
       "Brick                                  2\n",
       "Baton                                  2\n",
       "Scissors                               2\n",
       "Metal Stick                            2\n",
       "Metal Pole                             2\n",
       "Chain Saw                              2\n",
       "Meat Cleaver                           2\n",
       "Shovel                                 2\n",
       "Sharp Object                           1\n",
       "Pole                                   1\n",
       "Rock                                   1\n",
       "Stapler                                1\n",
       "Spear                                  1\n",
       "Pipe                                   1\n",
       "Straight Edge Razor                    1\n",
       "Chain                                  1\n",
       "Carjack                                1\n",
       "Bayonet                                1\n",
       "Baseball Bat And Fireplace Poker       1\n",
       "Pitchfork                              1\n",
       "Flagpole                               1\n",
       "Piece Of Wood                          1\n",
       "Bean-Bag Gun                           1\n",
       "Garden Tool                            1\n",
       "Glass Shard                            1\n",
       "Beer Bottle                            1\n",
       "Hand Torch                             1\n",
       "Cordless Drill                         1\n",
       "Hatchet And Gun                        1\n",
       "Lawn Mower Blade                       1\n",
       "Pick-Axe                               1\n",
       "Contractor'S Level                     1\n",
       "Metal Hand Tool                        1\n",
       "Metal Object                           1\n",
       "Metal Rake                             1\n",
       "Flashlight                             1\n",
       "Nail Gun                               1\n",
       "Motorcycle                             1\n",
       "Name: Armed, dtype: int64"
      ]
     },
     "execution_count": 8,
     "metadata": {},
     "output_type": "execute_result"
    }
   ],
   "source": [
    "df[\"Armed\"] = df['Armed'].astype('category')\n",
    "df['Armed'].value_counts()"
   ]
  },
  {
   "cell_type": "markdown",
   "metadata": {},
   "source": [
    "5. The values inside \"Armed\" are counted in a incorrect way caused by the case sensitivity. We need to normalize them. The way more simple is to change all the values in lowercase form. Then turn it into a categorical variable."
   ]
  },
  {
   "cell_type": "code",
   "execution_count": 9,
   "metadata": {},
   "outputs": [
    {
     "data": {
      "text/plain": [
       "gun                                 4703\n",
       "knife                               1361\n",
       "unarmed                              400\n",
       "vehicle                              111\n",
       "toy weapon                            98\n",
       "machete                               16\n",
       "unknown weapon                        15\n",
       "sword                                  8\n",
       "box cutter                             7\n",
       "hammer                                 7\n",
       "axe                                    6\n",
       "baseball bat                           6\n",
       "tasered                                6\n",
       "metal pipe                             5\n",
       "hatchet                                5\n",
       "gun and knife                          3\n",
       "screwdriver                            3\n",
       "guns and explosives                    3\n",
       "crossbow                               3\n",
       "blunt object                           2\n",
       "shovel                                 2\n",
       "metal stick                            2\n",
       "baton                                  2\n",
       "chain saw                              2\n",
       "scissors                               2\n",
       "metal pole                             2\n",
       "brick                                  2\n",
       "meat cleaver                           2\n",
       "stapler                                1\n",
       "pipe                                   1\n",
       "pitchfork                              1\n",
       "rock                                   1\n",
       "pole                                   1\n",
       "baseball bat and fireplace poker       1\n",
       "spear                                  1\n",
       "sharp object                           1\n",
       "pick-axe                               1\n",
       "straight edge razor                    1\n",
       "piece of wood                          1\n",
       "beer bottle                            1\n",
       "nail gun                               1\n",
       "motorcycle                             1\n",
       "carjack                                1\n",
       "chain                                  1\n",
       "contractor's level                     1\n",
       "cordless drill                         1\n",
       "flagpole                               1\n",
       "flashlight                             1\n",
       "garden tool                            1\n",
       "glass shard                            1\n",
       "bean-bag gun                           1\n",
       "hand torch                             1\n",
       "hatchet and gun                        1\n",
       "bayonet                                1\n",
       "lawn mower blade                       1\n",
       "metal hand tool                        1\n",
       "metal rake                             1\n",
       "metal object                           1\n",
       "Name: Armed, dtype: int64"
      ]
     },
     "execution_count": 9,
     "metadata": {},
     "output_type": "execute_result"
    }
   ],
   "source": [
    "df['Armed'] = df['Armed'].astype('str')\n",
    "listWithArmedLowerCase = list(df['Armed'])\n",
    "\n",
    "for i in range(len(listWithArmedLowerCase)):\n",
    "    if listWithArmedLowerCase[i] != 'nan':\n",
    "        listWithArmedLowerCase[i] = str(listWithArmedLowerCase[i])\n",
    "        listWithArmedLowerCase[i] = listWithArmedLowerCase[i].lower()\n",
    "    else: listWithArmedLowerCase[i] = None\n",
    "\n",
    "df['Armed'] = listWithArmedLowerCase\n",
    "\n",
    "df[\"Armed\"] = df['Armed'].astype('category')\n",
    "df['Armed'].value_counts()\n"
   ]
  },
  {
   "cell_type": "markdown",
   "metadata": {},
   "source": [
    "6. Then I finish to normalizing data with the change of the value as \"City\", \"Date\" and \"Name\". "
   ]
  },
  {
   "cell_type": "code",
   "execution_count": 10,
   "metadata": {},
   "outputs": [],
   "source": [
    "df['City'] = df['City'].astype('str')"
   ]
  },
  {
   "cell_type": "code",
   "execution_count": 11,
   "metadata": {},
   "outputs": [],
   "source": [
    "df[\"Date\"] = df['Date'].astype('datetime64')\n",
    "df['Name'] = df['Name'].astype('str')"
   ]
  },
  {
   "cell_type": "markdown",
   "metadata": {},
   "source": [
    "7. After the normalization we can start to extract the data and interrogate the dataset. \n",
    "We did 7 queries on dataset to discover insightful informations. "
   ]
  },
  {
   "cell_type": "markdown",
   "metadata": {},
   "source": [
    "The first query is about a specific attribute related to the victims, that is the type of weapon that belonged to the victims when they were killed. \n",
    "\n",
    "-  \"Gun\" is the most used weapon mainly to victims related to the race \"White\" and \"Black\"\n",
    "-  Black people are also the most unarmed victims, followed by hispanic and white people."
   ]
  },
  {
   "cell_type": "code",
   "execution_count": 22,
   "metadata": {},
   "outputs": [
    {
     "data": {
      "image/png": "[encoded data removed]",
      "text/plain": [
       "<Figure size 432x288 with 1 Axes>"
      ]
     },
     "metadata": {
      "needs_background": "light"
     },
     "output_type": "display_data"
    }
   ],
   "source": [
    "dfByArmedAndRace = extract_data_obj.groupByArmedAndRaceDF()\n",
    " \n",
    "plot = dfByArmedAndRace.plot.bar(stacked=True, title='Victims grouped by Weapons and Race')\n",
    "\n",
    "export_obj.save(plot, 'victim_grouped_Armed_Race.png')"
   ]
  },
  {
   "cell_type": "markdown",
   "metadata": {},
   "source": [
    "We investigate also the manner of death by race to understand if there are any choices related to race preferences. \n",
    "- The majority of the victims are killed by shooting \n",
    "- Most victims by shot are white people \n",
    "- Black people formed the majority of victmis killed by teaser "
   ]
  },
  {
   "cell_type": "code",
   "execution_count": 24,
   "metadata": {},
   "outputs": [
    {
     "data": {
      "image/png": "[encoded data removed]",
      "text/plain": [
       "<Figure size 432x288 with 1 Axes>"
      ]
     },
     "metadata": {
      "needs_background": "light"
     },
     "output_type": "display_data"
    }
   ],
   "source": [
    "dfByMannerOfDeathAndRace = extract_data_obj.groupByMannerOfDeathAndRaceDF()\n",
    "\n",
    "plot = dfByMannerOfDeathAndRace.plot.bar(stacked=True, title='Manner of Death of Victims by Race')\n",
    "\n",
    "export_obj.save(plot, 'manner_of_death_victims_by_race.png')\n"
   ]
  },
  {
   "cell_type": "markdown",
   "metadata": {},
   "source": [
    "We can search also which are the main States where victims are killed by Police. It's interesting to see how Hispanic people are the most killed in California, followed by white and black people too. In Florida the majority of the victims are black people. Instead, in Washington victims are mainly white people.\n",
    "\n",
    "The other States show, more or less, a balanced distribution. "
   ]
  },
  {
   "cell_type": "code",
   "execution_count": 25,
   "metadata": {},
   "outputs": [
    {
     "data": {
      "image/png": "[encoded data removed]",
      "text/plain": [
       "<Figure size 432x288 with 1 Axes>"
      ]
     },
     "metadata": {
      "needs_background": "light"
     },
     "output_type": "display_data"
    }
   ],
   "source": [
    "dfbyStateAndRace = extract_data_obj.groupByVictimsByStateAndRaceDF()\n",
    "                        \n",
    "plot = dfbyStateAndRace.plot.bar(stacked=True, title='Victims by State and Race')\n",
    "\n",
    "export_obj.save(plot, 'victims_by_state_and_race.png')\n"
   ]
  },
  {
   "cell_type": "markdown",
   "metadata": {},
   "source": [
    "According to the insight that California is the State where there are more victims, we can see that Los Angeles is the city with the biggest number of victims where are mainly Hispanic people, followed by Black and White. In Chicago, Jacksonville, New Orleans and Oackland the victmis are almost mainly Black. It's an insight that could make think to a race prejudice or to significant racial issues. However, without the overall population classifications, we cannot be sure about it."
   ]
  },
  {
   "cell_type": "code",
   "execution_count": 21,
   "metadata": {},
   "outputs": [
    {
     "data": {
      "image/png": "[encoded data removed]",
      "text/plain": [
       "<Figure size 432x288 with 1 Axes>"
      ]
     },
     "metadata": {
      "needs_background": "light"
     },
     "output_type": "display_data"
    }
   ],
   "source": [
    "dfByCityAndRace = extract_data_obj.groupByVictimsByCityAndRaceDF()\n",
    "\n",
    "plot = dfByCityAndRace.plot.bar(stacked=True, title='Victims by City and Race')\n",
    "\n",
    "export_obj.save(plot, 'victims_by_city_and_race.png')\n"
   ]
  },
  {
   "cell_type": "markdown",
   "metadata": {},
   "source": [
    "The violence is growing trough the years as we can see below. \n",
    "\n",
    "It seems that 2015 is the most violent year \n",
    "\n",
    "By the way we need to remember that data are partial and consider that during the years they probably have been collected in different ways. "
   ]
  },
  {
   "cell_type": "code",
   "execution_count": 26,
   "metadata": {},
   "outputs": [
    {
     "data": {
      "image/png": "[encoded data removed]",
      "text/plain": [
       "<Figure size 432x288 with 1 Axes>"
      ]
     },
     "metadata": {
      "needs_background": "light"
     },
     "output_type": "display_data"
    }
   ],
   "source": [
    "dfByRaceAndDate = extract_data_obj.victimsByYearAndRaceDF()\n",
    " \n",
    "dfByRaceAndDate = dfByRaceAndDate.groupby('Race')['count'].plot(legend=True, title='Victims by Year and Race')\n",
    "\n",
    "export_obj.save(plot, 'victims_by_year_and_race.png')"
   ]
  },
  {
   "cell_type": "markdown",
   "metadata": {},
   "source": [
    "We investigate about female victims by race. There are not significant insights to highlight. "
   ]
  },
  {
   "cell_type": "code",
   "execution_count": 27,
   "metadata": {},
   "outputs": [
    {
     "data": {
      "image/png": "[encoded data removed]",
      "text/plain": [
       "<Figure size 432x288 with 1 Axes>"
      ]
     },
     "metadata": {
      "needs_background": "light"
     },
     "output_type": "display_data"
    }
   ],
   "source": [
    "dfOnlyFemaleByRace = extract_data_obj.onlyFemaleVictimsByRaceDF()   \n",
    "\n",
    "plot = dfOnlyFemaleByRace.plot.bar(stacked=True, title='Female victims by Race')\n",
    "\n",
    "export_obj.save(plot, 'only_female_victims_by_race.png')"
   ]
  },
  {
   "cell_type": "markdown",
   "metadata": {},
   "source": [
    "We analyze also the correlation between mental illness and the fatalities. \n",
    "The majority of the victims are not affected by mental illness. "
   ]
  },
  {
   "cell_type": "code",
   "execution_count": 28,
   "metadata": {},
   "outputs": [
    {
     "data": {
      "image/png": "[encoded data removed]",
      "text/plain": [
       "<Figure size 432x288 with 1 Axes>"
      ]
     },
     "metadata": {
      "needs_background": "light"
     },
     "output_type": "display_data"
    }
   ],
   "source": [
    "dfMentalIllnessByRace = extract_data_obj.mentalIllnessPresenceByRaceDF() \n",
    "\n",
    "plot = dfMentalIllnessByRace.plot.bar(stacked=True, title='Victims with mental illness by Race')\n",
    "\n",
    "export_obj.save(plot, 'mental_illness_presence_by_race.png')"
   ]
  },
  {
   "cell_type": "markdown",
   "metadata": {},
   "source": [
    "Conclusions: \n",
    "- The majority of the victims are properly distributed, and it doesn't seems that are particular racial issues base on the data available\n",
    "- Some States and Cities show a strong persistence against Black and Hispanic people\n",
    "- With more data related to the population composition, we can find out some interesting ipothesis"
   ]
  }
 ],
 "metadata": {
  "interpreter": {
   "hash": "50f990802dba2a758c3edb3cbcbdbe0ad29c4ec951bcb2a9e9fd883dbf69f992"
  },
  "kernelspec": {
   "display_name": "Python 3.10.4 64-bit",
   "language": "python",
   "name": "python3"
  },
  "language_info": {
   "codemirror_mode": {
    "name": "ipython",
    "version": 3
   },
   "file_extension": ".py",
   "mimetype": "text/x-python",
   "name": "python",
   "nbconvert_exporter": "python",
   "pygments_lexer": "ipython3",
   "version": "3.10.4"
  },
  "orig_nbformat": 4
 },
 "nbformat": 4,
 "nbformat_minor": 2
}
